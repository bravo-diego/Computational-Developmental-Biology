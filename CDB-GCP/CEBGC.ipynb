{
 "cells": [
  {
   "cell_type": "markdown",
   "id": "e6c75e7a",
   "metadata": {},
   "source": [
    "# Computational Evolutionary Biology "
   ]
  },
  {
   "cell_type": "markdown",
   "id": "4420baee-933c-49e2-8fae-dbd8990c6ea0",
   "metadata": {},
   "source": [
    "_Genetic code_  -  _Evolution_  -  _Point-mutations_  -  _Error minimization_"
   ]
  },
  {
   "cell_type": "markdown",
   "id": "36d6bac2-1b2f-4760-94bb-f9e0063054cd",
   "metadata": {},
   "source": [
    "## Genetic code has evolved to minimize the effects of errors?"
   ]
  },
  {
   "cell_type": "markdown",
   "id": "fb825e38-1791-44f7-8906-fcc13a32178b",
   "metadata": {},
   "source": [
    "Analyze if our genetic code is the better at reducing the average phenotypic effects of **single-point mutations**.\\\n",
    "Develop a program to generate and evaluate thousands of random genetic codes and compare their efficiency with the original genetic code. "
   ]
  },
  {
   "cell_type": "markdown",
   "id": "4b2ea753",
   "metadata": {},
   "source": [
    "_Configure matplotlib to render into the browser_"
   ]
  },
  {
   "cell_type": "code",
   "execution_count": 1,
   "id": "7da70e2a",
   "metadata": {},
   "outputs": [],
   "source": [
    "%matplotlib widget"
   ]
  },
  {
   "cell_type": "markdown",
   "id": "2dbda32f",
   "metadata": {},
   "source": [
    "_Installing required packages_"
   ]
  },
  {
   "cell_type": "code",
   "execution_count": 35,
   "id": "e8eaf0ab",
   "metadata": {},
   "outputs": [
    {
     "name": "stdout",
     "output_type": "stream",
     "text": [
      "Defaulting to user installation because normal site-packages is not writeable\n",
      "Requirement already satisfied: ffmpeg in ./.local/lib/python3.11/site-packages (1.4)\n",
      "\n",
      "\u001b[1m[\u001b[0m\u001b[34;49mnotice\u001b[0m\u001b[1;39;49m]\u001b[0m\u001b[39;49m A new release of pip available: \u001b[0m\u001b[31;49m22.3.1\u001b[0m\u001b[39;49m -> \u001b[0m\u001b[32;49m23.2.1\u001b[0m\n",
      "\u001b[1m[\u001b[0m\u001b[34;49mnotice\u001b[0m\u001b[1;39;49m]\u001b[0m\u001b[39;49m To update, run: \u001b[0m\u001b[32;49mpython3 -m pip install --upgrade pip\u001b[0m\n",
      "Note: you may need to restart the kernel to use updated packages.\n"
     ]
    }
   ],
   "source": [
    "pip install ffmpeg"
   ]
  },
  {
   "cell_type": "code",
   "execution_count": 36,
   "id": "97d5ab9c",
   "metadata": {},
   "outputs": [
    {
     "name": "stdout",
     "output_type": "stream",
     "text": [
      "Defaulting to user installation because normal site-packages is not writeable\n",
      "Requirement already satisfied: ipympl in ./.local/lib/python3.11/site-packages (0.9.3)\n",
      "Requirement already satisfied: ipython<9 in ./.local/lib/python3.11/site-packages (from ipympl) (8.14.0)\n",
      "Requirement already satisfied: numpy in /usr/lib/python3/dist-packages (from ipympl) (1.24.2)\n",
      "Requirement already satisfied: ipython-genutils in ./.local/lib/python3.11/site-packages (from ipympl) (0.2.0)\n",
      "Requirement already satisfied: pillow in /usr/lib/python3/dist-packages (from ipympl) (9.4.0)\n",
      "Requirement already satisfied: traitlets<6 in ./.local/lib/python3.11/site-packages (from ipympl) (5.9.0)\n",
      "Requirement already satisfied: ipywidgets<9,>=7.6.0 in ./.local/lib/python3.11/site-packages (from ipympl) (8.0.7)\n",
      "Requirement already satisfied: matplotlib<4,>=3.4.0 in /usr/lib/python3/dist-packages (from ipympl) (3.5.2)\n",
      "Requirement already satisfied: backcall in ./.local/lib/python3.11/site-packages (from ipython<9->ipympl) (0.2.0)\n",
      "Requirement already satisfied: decorator in /usr/lib/python3/dist-packages (from ipython<9->ipympl) (5.1.1)\n",
      "Requirement already satisfied: jedi>=0.16 in ./.local/lib/python3.11/site-packages (from ipython<9->ipympl) (0.18.2)\n",
      "Requirement already satisfied: matplotlib-inline in ./.local/lib/python3.11/site-packages (from ipython<9->ipympl) (0.1.6)\n",
      "Requirement already satisfied: pickleshare in ./.local/lib/python3.11/site-packages (from ipython<9->ipympl) (0.7.5)\n",
      "Requirement already satisfied: prompt-toolkit!=3.0.37,<3.1.0,>=3.0.30 in ./.local/lib/python3.11/site-packages (from ipython<9->ipympl) (3.0.39)\n",
      "Requirement already satisfied: pygments>=2.4.0 in /usr/lib/python3/dist-packages (from ipython<9->ipympl) (2.14.0)\n",
      "Requirement already satisfied: stack-data in ./.local/lib/python3.11/site-packages (from ipython<9->ipympl) (0.6.2)\n",
      "Requirement already satisfied: pexpect>4.3 in /usr/lib/python3/dist-packages (from ipython<9->ipympl) (4.8.0)\n",
      "Requirement already satisfied: ipykernel>=4.5.1 in ./.local/lib/python3.11/site-packages (from ipywidgets<9,>=7.6.0->ipympl) (6.24.0)\n",
      "Requirement already satisfied: widgetsnbextension~=4.0.7 in ./.local/lib/python3.11/site-packages (from ipywidgets<9,>=7.6.0->ipympl) (4.0.8)\n",
      "Requirement already satisfied: jupyterlab-widgets~=3.0.7 in ./.local/lib/python3.11/site-packages (from ipywidgets<9,>=7.6.0->ipympl) (3.0.8)\n",
      "Requirement already satisfied: comm>=0.1.1 in ./.local/lib/python3.11/site-packages (from ipykernel>=4.5.1->ipywidgets<9,>=7.6.0->ipympl) (0.1.3)\n",
      "Requirement already satisfied: debugpy>=1.6.5 in ./.local/lib/python3.11/site-packages (from ipykernel>=4.5.1->ipywidgets<9,>=7.6.0->ipympl) (1.6.7)\n",
      "Requirement already satisfied: jupyter-client>=6.1.12 in ./.local/lib/python3.11/site-packages (from ipykernel>=4.5.1->ipywidgets<9,>=7.6.0->ipympl) (8.3.0)\n",
      "Requirement already satisfied: jupyter-core!=5.0.*,>=4.12 in ./.local/lib/python3.11/site-packages (from ipykernel>=4.5.1->ipywidgets<9,>=7.6.0->ipympl) (5.3.1)\n",
      "Requirement already satisfied: nest-asyncio in ./.local/lib/python3.11/site-packages (from ipykernel>=4.5.1->ipywidgets<9,>=7.6.0->ipympl) (1.5.6)\n",
      "Requirement already satisfied: packaging in /usr/lib/python3/dist-packages (from ipykernel>=4.5.1->ipywidgets<9,>=7.6.0->ipympl) (23.0)\n",
      "Requirement already satisfied: psutil in ./.local/lib/python3.11/site-packages (from ipykernel>=4.5.1->ipywidgets<9,>=7.6.0->ipympl) (5.9.5)\n",
      "Requirement already satisfied: pyzmq>=20 in ./.local/lib/python3.11/site-packages (from ipykernel>=4.5.1->ipywidgets<9,>=7.6.0->ipympl) (25.1.0)\n",
      "Requirement already satisfied: tornado>=6.1 in ./.local/lib/python3.11/site-packages (from ipykernel>=4.5.1->ipywidgets<9,>=7.6.0->ipympl) (6.3.2)\n",
      "Requirement already satisfied: parso<0.9.0,>=0.8.0 in ./.local/lib/python3.11/site-packages (from jedi>=0.16->ipython<9->ipympl) (0.8.3)\n",
      "Requirement already satisfied: wcwidth in ./.local/lib/python3.11/site-packages (from prompt-toolkit!=3.0.37,<3.1.0,>=3.0.30->ipython<9->ipympl) (0.2.6)\n",
      "Requirement already satisfied: executing>=1.2.0 in ./.local/lib/python3.11/site-packages (from stack-data->ipython<9->ipympl) (1.2.0)\n",
      "Requirement already satisfied: asttokens>=2.1.0 in ./.local/lib/python3.11/site-packages (from stack-data->ipython<9->ipympl) (2.2.1)\n",
      "Requirement already satisfied: pure-eval in ./.local/lib/python3.11/site-packages (from stack-data->ipython<9->ipympl) (0.2.2)\n",
      "Requirement already satisfied: six in /usr/lib/python3/dist-packages (from asttokens>=2.1.0->stack-data->ipython<9->ipympl) (1.16.0)\n",
      "Requirement already satisfied: python-dateutil>=2.8.2 in /usr/lib/python3/dist-packages (from jupyter-client>=6.1.12->ipykernel>=4.5.1->ipywidgets<9,>=7.6.0->ipympl) (2.8.2)\n",
      "Requirement already satisfied: platformdirs>=2.5 in ./.local/lib/python3.11/site-packages (from jupyter-core!=5.0.*,>=4.12->ipykernel>=4.5.1->ipywidgets<9,>=7.6.0->ipympl) (3.9.1)\n",
      "\n",
      "\u001b[1m[\u001b[0m\u001b[34;49mnotice\u001b[0m\u001b[1;39;49m]\u001b[0m\u001b[39;49m A new release of pip available: \u001b[0m\u001b[31;49m22.3.1\u001b[0m\u001b[39;49m -> \u001b[0m\u001b[32;49m23.2.1\u001b[0m\n",
      "\u001b[1m[\u001b[0m\u001b[34;49mnotice\u001b[0m\u001b[1;39;49m]\u001b[0m\u001b[39;49m To update, run: \u001b[0m\u001b[32;49mpython3 -m pip install --upgrade pip\u001b[0m\n",
      "Note: you may need to restart the kernel to use updated packages.\n"
     ]
    }
   ],
   "source": [
    "pip install ipympl"
   ]
  },
  {
   "cell_type": "code",
   "execution_count": 2,
   "id": "00d7ee7d",
   "metadata": {},
   "outputs": [],
   "source": [
    "# Loading libraries\n",
    "\n",
    "import numpy as np\n",
    "import pandas as pd\n",
    "import matplotlib.pyplot as plt\n",
    "import matplotlib.animation as animation\n",
    "from array import *\n",
    "from random import *\n",
    "from matplotlib.figure import Figure\n",
    "from matplotlib.backends.backend_agg import FigureCanvasAgg"
   ]
  },
  {
   "cell_type": "code",
   "execution_count": 3,
   "id": "abc17fe8",
   "metadata": {},
   "outputs": [],
   "source": [
    "# Defining codons in a multidimensional array\n",
    "\n",
    "codons = [\n",
    "    [['u'], ['u'], ['u']], [['u'], ['u'], ['c']], [['u'], ['u'], ['a']], [['u'], ['u'], ['g']], [['c'], ['u'], ['u']], [['c'], ['u'], ['c']], [['c'], ['u'], ['a']], [['c'], ['u'], ['g']], \n",
    "    [['a'], ['u'], ['u']], [['a'], ['u'], ['c']], [['a'], ['u'], ['a']], [['a'], ['u'], ['g']], [['g'], ['u'], ['u']], [['g'], ['u'], ['c']], [['g'], ['u'], ['a']], [['g'], ['u'], ['g']], \n",
    "    [['u'], ['c'], ['u']], [['u'], ['c'], ['c']], [['u'], ['c'], ['a']], [['u'], ['c'], ['g']], [['c'], ['c'], ['u’']], [['c'], ['c'], ['c']], [['c'], ['c'], ['a']], [['c'], ['c'], ['g']], \n",
    "    [['a'], ['c'], ['u']], [['a'], ['c'], ['c']], [['a'], ['c'], ['a']], [['a'], ['c'], ['g']], [['g'], ['c'], ['u']], [['g'], ['c'], ['c']], [['g'], ['c'], ['a']], [['g'], ['c'], ['g']], \n",
    "    [['u'], ['a'], ['u']], [['u'], ['a'], ['c']], [['u'], ['a'], ['a']], [['u'], ['a'], ['g']], [['c'], ['a'], ['u']], [['c'], ['a'], ['c']], [['c'], ['a'], ['a']], [['c'], ['a'], ['g']], \n",
    "    [['a'], ['a'], ['u']], [['a'], ['a'], ['c']], [['a'], ['a'], ['a']], [['a'], ['a'], ['g']], [['g'], ['a'], ['u']], [['g'], ['a'], ['c']], [['g'], ['a'], ['a']], [['g'], ['a'], ['g']], \n",
    "    [['u'], ['g'], ['u']], [['u'], ['g'], ['c']], [['u'], ['g'], ['a']], [['u'], ['g'], ['g']], [['c'], ['g'], ['u']], [['c'], ['g'], ['c']], [['c'], ['g'], ['a']], [['c'], ['g'], ['g']], \n",
    "    [['a'], ['g'], ['u']], [['a'], ['g'], ['c']], [['a'], ['g'], ['a']], [['a'], ['g'], ['g']], [['g'], ['g'], ['u']], [['g'], ['g'], ['c']], [['g'], ['g'], ['a']], [['g'], ['g'], ['g']]\n",
    "]"
   ]
  },
  {
   "cell_type": "code",
   "execution_count": 4,
   "id": "eab5b8b0",
   "metadata": {},
   "outputs": [],
   "source": [
    "# Defining amino acids in an array\n",
    "\n",
    "amino_acids = ['Phe', 'Phe', 'Leu', 'Leu', 'Leu', 'Leu', 'Leu', 'Leu', \n",
    "               'Ile', 'Ile', 'Ile', 'Met', 'Val', 'Val', 'Val', 'Val', \n",
    "               'Ser', 'Ser', 'Ser', 'Ser', 'Pro', 'Pro', 'Pro', 'Pro', \n",
    "               'Thr', 'Thr', 'Thr', 'Thr', 'Ala', 'Ala', 'Ala', 'Ala', \n",
    "               'Tyr', 'Tyr', 'End', 'End', 'His', 'His', 'Gln', 'Gln', \n",
    "               'Asn', 'Asn', 'Lys', 'Lys', 'Asp', 'Asp', 'Glu', 'Glu', \n",
    "               'Cys', 'Cys', 'End', 'Trp', 'Arg', 'Arg', 'Arg', 'Arg', \n",
    "               'Ser', 'Ser', 'Arg', 'Arg', 'Gly', 'Gly', 'Gly', 'Gly']"
   ]
  },
  {
   "cell_type": "code",
   "execution_count": 5,
   "id": "9ec8ff56",
   "metadata": {},
   "outputs": [
    {
     "name": "stdout",
     "output_type": "stream",
     "text": [
      "There are 64 codons, 20 amino acids and 1 stop codon.\n"
     ]
    }
   ],
   "source": [
    "print(\"There are {} codons, {} amino acids and {} stop codon.\".format(len(codons), len(np.unique(np.array(amino_acids))) - 1, len(np.unique(np.array(amino_acids))) - 20))"
   ]
  },
  {
   "cell_type": "code",
   "execution_count": 6,
   "id": "e676aa39",
   "metadata": {},
   "outputs": [],
   "source": [
    "# Original genetic code\n",
    "genetic_code = [] \n",
    "for i in range(len(codons)):\n",
    "    genetic_code.append([[], []])\n",
    "    genetic_code[i][0].append(amino_acids[i])\n",
    "    for k in range(len(codons[0])):\n",
    "        genetic_code[i][1].append(codons[i][k])"
   ]
  },
  {
   "cell_type": "code",
   "execution_count": 7,
   "id": "c0d84ae4",
   "metadata": {},
   "outputs": [],
   "source": [
    "# Function to generate random codes\n",
    "\n",
    "def random_code(empty_code): \n",
    "    for i in range(len(codons)):\n",
    "        empty_code.append([[], []])\n",
    "        for k in range(len(codons[0])):\n",
    "            empty_code[i][1].append(codons[i][k])\n",
    "    amino_acids_copy = amino_acids[:] # copy of amino acids array \n",
    "    total_codons = len(codons)\n",
    "    for i in range(len(codons)):\n",
    "        random_position = randrange(total_codons) \n",
    "        empty_code[i][0].append(amino_acids_copy[random_position])\n",
    "        del amino_acids_copy[random_position] # delete amino acid in array *copy \n",
    "        total_codons -= 1\n",
    "    return empty_code # random genetic code"
   ]
  },
  {
   "cell_type": "markdown",
   "id": "de0c4d88",
   "metadata": {},
   "source": [
    "In order to count the number of mutations around an specific genetic code (whether the original or a random one), I created an specific number of functions to count them. These functions compares the codons in the same section and with their neighbors codons in both vertical and horizontal orientations.\\\n",
    "See **Complementary Information** for more details."
   ]
  },
  {
   "cell_type": "code",
   "execution_count": 8,
   "id": "978c8ceb",
   "metadata": {},
   "outputs": [],
   "source": [
    "def uu_section(genetic_code):\n",
    "    mutations = 0 # number of mutations\n",
    "    x = 3\n",
    "    y = 3\n",
    "    z = 3\n",
    "    i = 0 # start position\n",
    "    k = i + 1 # switch amino acid in same section\n",
    "    l = i + 4 # switch amino acid in horizontal section\n",
    "    m = i + 16 # switch amino acid in vertical section\n",
    "    for A in range(4): # amino acids in section (i.e. Phe, Phe, Leu, Leu)\n",
    "        amino_acid = genetic_code[i][0]\n",
    "        for B in range(x): # compare amino acids (same section)\n",
    "            if amino_acid != genetic_code[k][0]:\n",
    "                mutations += 1\n",
    "                k += 1\n",
    "            else:\n",
    "                k += 1\n",
    "        x -= 1\n",
    "        for C in range(y): # compare amino acids (horizontal sections; 4 out of 4)\n",
    "            if amino_acid != genetic_code[l][0]:\n",
    "                mutations += 1\n",
    "                l += 4\n",
    "            else:\n",
    "                l += 4\n",
    "        for D in range(z): # compare amino acids (vertical sections; 4 out of 4)\n",
    "            if amino_acid != genetic_code[m][0]:\n",
    "                mutations += 1\n",
    "                m += 16\n",
    "            else:\n",
    "                m += 16\n",
    "        i += 1\n",
    "        k = i + 1\n",
    "        l = i + 4\n",
    "        m = i + 16\n",
    "    return mutations"
   ]
  },
  {
   "cell_type": "code",
   "execution_count": 9,
   "id": "8cb5fbb3",
   "metadata": {},
   "outputs": [],
   "source": [
    "def uc_section(genetic_code):\n",
    "    mutations = 0 # number of mutations\n",
    "    x = 3\n",
    "    y = 2\n",
    "    z = 3\n",
    "    i = 4 # start position\n",
    "    k = i + 1 # switch amino acid in same section\n",
    "    l = i + 4 # switch amino acid in horizontal section\n",
    "    m = i + 16 # switch amino acid in vertical section\n",
    "    for A in range(4): # amino acids in section (i.e. Leu, Leu, Leu, Leu)\n",
    "        amino_acid = genetic_code[i][0]\n",
    "        for B in range(x): # compare amino acids (same section)\n",
    "            if amino_acid != genetic_code[k][0]:\n",
    "                mutations += 1\n",
    "                k += 1\n",
    "            else:\n",
    "                k += 1\n",
    "        x -= 1\n",
    "        for C in range(y): # compare amino acids (horizontal sections; 3 out of 4)\n",
    "            if amino_acid != genetic_code[l][0]:\n",
    "                mutations += 1\n",
    "                l += 4\n",
    "            else:\n",
    "                l += 4\n",
    "        for D in range(z): # compare amino acids (vertical sections; 4 out of 4)\n",
    "            if amino_acid != genetic_code[m][0]:\n",
    "                mutations += 1\n",
    "                m += 16\n",
    "            else:\n",
    "                m += 16\n",
    "        i += 1\n",
    "        k = i + 1\n",
    "        l = i + 4\n",
    "        m = i + 16\n",
    "    return mutations"
   ]
  },
  {
   "cell_type": "code",
   "execution_count": 10,
   "id": "d9619db2",
   "metadata": {},
   "outputs": [],
   "source": [
    "def ua_section(genetic_code):\n",
    "    mutations = 0 # number of mutations\n",
    "    x = 3\n",
    "    y = 1\n",
    "    z = 3\n",
    "    i = 8 # start position\n",
    "    k = i + 1 # switch amino acid in same section\n",
    "    l = i + 4 # switch amino acid in horizontal section\n",
    "    m = i + 16 # switch amino acid in vertical section\n",
    "    for A in range(4): # amino acids in section (i.e. Ile, Ile, Ile, Met)\n",
    "        amino_acid = genetic_code[i][0]\n",
    "        for B in range(x): # compare amino acids (same section)\n",
    "            if amino_acid != genetic_code[k][0]:\n",
    "                mutations += 1\n",
    "                k += 1\n",
    "            else:\n",
    "                k += 1\n",
    "        x -= 1\n",
    "        for C in range(y): # compare amino acids (horizontal sections; 2 out of 4)\n",
    "            if amino_acid != genetic_code[l][0]:\n",
    "                mutations += 1\n",
    "                l += 4\n",
    "            else:\n",
    "                l += 4\n",
    "        for D in range(z): # compare amino acids (vertical sections; 4 out of 4)\n",
    "            if amino_acid != genetic_code[m][0]:\n",
    "                mutations += 1\n",
    "                m += 16\n",
    "            else:\n",
    "                m += 16\n",
    "        i += 1\n",
    "        k = i + 1\n",
    "        l = i + 4\n",
    "        m = i + 16\n",
    "    return mutations"
   ]
  },
  {
   "cell_type": "code",
   "execution_count": 11,
   "id": "ce27b7e7",
   "metadata": {},
   "outputs": [],
   "source": [
    "def ug_section(genetic_code):\n",
    "    mutations = 0 # number of mutations\n",
    "    x = 3\n",
    "    y = 0\n",
    "    z = 3\n",
    "    i = 12 # start position\n",
    "    k = i + 1 # switch amino acid in same section\n",
    "    l = i + 4 # switch amino acid in horizontal section\n",
    "    m = i + 16 # switch amino acid in vertical section\n",
    "    for A in range(4): # amino acids in section (i.e. Val, Val, Val, Val)\n",
    "        amino_acid = genetic_code[i][0]\n",
    "        for B in range(x): # compare amino acids (same section)\n",
    "            if amino_acid != genetic_code[k][0]:\n",
    "                mutations += 1\n",
    "                k += 1\n",
    "            else:\n",
    "                k += 1\n",
    "        x -= 1\n",
    "        for C in range(y): # compare amino acids (horizontal sections; 1 out of 4)\n",
    "            if amino_acid != genetic_code[l][0]:\n",
    "                mutations += 1\n",
    "                l += 4\n",
    "            else:\n",
    "                l += 4\n",
    "        for D in range(z): # compare amino acids (vertical sections; 4 out of 4)\n",
    "            if amino_acid != genetic_code[m][0]:\n",
    "                mutations += 1\n",
    "                m += 16\n",
    "            else:\n",
    "                m += 16\n",
    "        i += 1\n",
    "        k = i + 1\n",
    "        l = i + 4\n",
    "        m = i + 16\n",
    "    return mutations"
   ]
  },
  {
   "cell_type": "code",
   "execution_count": 12,
   "id": "e3b58827",
   "metadata": {},
   "outputs": [],
   "source": [
    "def cu_section(genetic_code):\n",
    "    mutations = 0 # number of mutations\n",
    "    x = 3\n",
    "    y = 3\n",
    "    z = 2\n",
    "    i = 16 # start position\n",
    "    k = i + 1 # switch amino acid in same section\n",
    "    l = i + 4 # switch amino acid in horizontal section\n",
    "    m = i + 16 # switch amino acid in vertical section\n",
    "    for A in range(4): # amino acids in section (i.e. Ser, Ser, Ser, Ser)\n",
    "        amino_acid = genetic_code[i][0]\n",
    "        for B in range(x): # compare amino acids (same section)\n",
    "            if amino_acid != genetic_code[k][0]:\n",
    "                mutations += 1\n",
    "                k += 1\n",
    "            else:\n",
    "                k += 1\n",
    "        x -= 1\n",
    "        for C in range(y): # compare amino acids (horizontal sections; 4 out of 4)\n",
    "            if amino_acid != genetic_code[l][0]:\n",
    "                mutations += 1\n",
    "                l += 4\n",
    "            else:\n",
    "                l += 4\n",
    "        for D in range(z): # compare amino acids (vertical sections; 3 out of 4)\n",
    "            if amino_acid != genetic_code[m][0]:\n",
    "                mutations += 1\n",
    "                m += 16\n",
    "            else:\n",
    "                m += 16\n",
    "        i += 1\n",
    "        k = i + 1\n",
    "        l = i + 4\n",
    "        m = i + 16\n",
    "    return mutations"
   ]
  },
  {
   "cell_type": "code",
   "execution_count": 13,
   "id": "1d146d76",
   "metadata": {},
   "outputs": [],
   "source": [
    "def cc_section(genetic_code):\n",
    "    mutations = 0 # number of mutations\n",
    "    x = 3\n",
    "    y = 2\n",
    "    z = 2\n",
    "    i = 20 # start position\n",
    "    k = i + 1 # switch amino acid in same section\n",
    "    l = i + 4 # switch amino acid in horizontal section\n",
    "    m = i + 16 # switch amino acid in vertical section\n",
    "    for A in range(4): # amino acids in section (i.e. Pro, Pro, Pro, Pro)\n",
    "        amino_acid = genetic_code[i][0]\n",
    "        for B in range(x): # compare amino acids (same section)\n",
    "            if amino_acid != genetic_code[k][0]:\n",
    "                mutations += 1\n",
    "                k += 1\n",
    "            else:\n",
    "                k += 1\n",
    "        x -= 1\n",
    "        for C in range(y): # compare amino acids (horizontal sections; 3 out of 4)\n",
    "            if amino_acid != genetic_code[l][0]:\n",
    "                mutations += 1\n",
    "                l += 4\n",
    "            else:\n",
    "                l += 4\n",
    "        for D in range(z): # compare amino acids (vertical sections; 3 out of 4)\n",
    "            if amino_acid != genetic_code[m][0]:\n",
    "                mutations += 1\n",
    "                m += 16\n",
    "            else:\n",
    "                m += 16\n",
    "        i += 1\n",
    "        k = i + 1\n",
    "        l = i + 4\n",
    "        m = i + 16\n",
    "    return mutations"
   ]
  },
  {
   "cell_type": "code",
   "execution_count": 14,
   "id": "6a6175d7",
   "metadata": {},
   "outputs": [],
   "source": [
    "def ca_section(genetic_code):\n",
    "    mutations = 0 # number of mutations\n",
    "    x = 3\n",
    "    y = 1\n",
    "    z = 2\n",
    "    i = 24 # start position\n",
    "    k = i + 1 # switch amino acid in same section\n",
    "    l = i + 4 # switch amino acid in horizontal section\n",
    "    m = i + 16 # switch amino acid in vertical section\n",
    "    for A in range(4): # amino acids in section (i.e. Thr, Thr, Thr, The)\n",
    "        amino_acid = genetic_code[i][0]\n",
    "        for B in range(x): # compare amino acids (same section)\n",
    "            if amino_acid != genetic_code[k][0]:\n",
    "                mutations += 1\n",
    "                k += 1\n",
    "            else:\n",
    "                k += 1\n",
    "        x -= 1\n",
    "        for C in range(y): # compare amino acids (horizontal sections; 2 out of 4)\n",
    "            if amino_acid != genetic_code[l][0]:\n",
    "                mutations += 1\n",
    "                l += 4\n",
    "            else:\n",
    "                l += 4\n",
    "        for D in range(z): # compare amino acids (vertical sections; 3 out of 4)\n",
    "            if amino_acid != genetic_code[m][0]:\n",
    "                mutations += 1\n",
    "                m += 16\n",
    "            else:\n",
    "                m += 16\n",
    "        i += 1\n",
    "        k = i + 1\n",
    "        l = i + 4\n",
    "        m = i + 16\n",
    "    return mutations"
   ]
  },
  {
   "cell_type": "code",
   "execution_count": 15,
   "id": "caae2b0d",
   "metadata": {},
   "outputs": [],
   "source": [
    "def cg_section(genetic_code):\n",
    "    mutations = 0 # number of mutations\n",
    "    x = 3\n",
    "    y = 0\n",
    "    z = 2\n",
    "    i = 28 # start position\n",
    "    k = i + 1 # switch amino acid in same section\n",
    "    l = i + 4 # switch amino acid in horizontal section\n",
    "    m = i + 16 # switch amino acid in vertical section\n",
    "    for A in range(4): # amino acids in section (i.e. Ala, Ala, Ala, Ala)\n",
    "        amino_acid = genetic_code[i][0]\n",
    "        for B in range(x): # compare amino acids (same section)\n",
    "            if amino_acid != genetic_code[k][0]:\n",
    "                mutations += 1\n",
    "                k += 1\n",
    "            else:\n",
    "                k += 1\n",
    "        x -= 1\n",
    "        for C in range(y): # compare amino acids (horizontal sections; 1 out of 4)\n",
    "            if amino_acid != genetic_code[l][0]:\n",
    "                mutations += 1\n",
    "                l += 4\n",
    "            else:\n",
    "                l += 4\n",
    "        for D in range(z): # compare amino acids (vertical sections; 3 out of 4)\n",
    "            if amino_acid != genetic_code[m][0]:\n",
    "                mutations += 1\n",
    "                m += 16\n",
    "            else:\n",
    "                m += 16\n",
    "        i += 1\n",
    "        k = i + 1\n",
    "        l = i + 4\n",
    "        m = i + 16\n",
    "    return mutations"
   ]
  },
  {
   "cell_type": "code",
   "execution_count": 16,
   "id": "ec94c8be",
   "metadata": {},
   "outputs": [],
   "source": [
    "def au_section(genetic_code):\n",
    "    mutations = 0 # number of mutations\n",
    "    x = 3\n",
    "    y = 3\n",
    "    z = 1\n",
    "    i = 32 # start position\n",
    "    k = i + 1 # switch amino acid in same section\n",
    "    l = i + 4 # switch amino acid in horizontal section\n",
    "    m = i + 16 # switch amino acid in vertical section\n",
    "    for A in range(4): # amino acids in section (i.e. Tyr, Tyr, End, End)\n",
    "        amino_acid = genetic_code[i][0]\n",
    "        for B in range(x): # compare amino acids (same section)\n",
    "            if amino_acid != genetic_code[k][0]:\n",
    "                mutations += 1\n",
    "                k += 1\n",
    "            else:\n",
    "                k += 1\n",
    "        x -= 1\n",
    "        for C in range(y): # compare amino acids (horizontal sections; 4 out of 4)\n",
    "            if amino_acid != genetic_code[l][0]:\n",
    "                mutations += 1\n",
    "                l += 4\n",
    "            else:\n",
    "                l += 4\n",
    "        for D in range(z): # compare amino acids (vertical sections; 2 out of 4)\n",
    "            if amino_acid != genetic_code[m][0]:\n",
    "                mutations += 1\n",
    "                m += 16\n",
    "            else:\n",
    "                m += 16\n",
    "        i += 1\n",
    "        k = i + 1\n",
    "        l = i + 4\n",
    "        m = i + 16\n",
    "    return mutations "
   ]
  },
  {
   "cell_type": "code",
   "execution_count": 17,
   "id": "41692fa9",
   "metadata": {},
   "outputs": [],
   "source": [
    "def ac_section(genetic_code):\n",
    "    mutations = 0 # number of mutations\n",
    "    x = 3\n",
    "    y = 2\n",
    "    z = 1\n",
    "    i = 36 # start position\n",
    "    k = i + 1 # switch amino acid in same section\n",
    "    l = i + 4 # switch amino acid in horizontal section\n",
    "    m = i + 16 # switch amino acid in vertical section\n",
    "    for A in range(4): # amino acids in section (i.e. His, His, Gln, Gln)\n",
    "        amino_acid = genetic_code[i][0]\n",
    "        for B in range(x): # compare amino acids (same section)\n",
    "            if amino_acid != genetic_code[k][0]:\n",
    "                mutations += 1\n",
    "                k += 1\n",
    "            else:\n",
    "                k += 1\n",
    "        x -= 1\n",
    "        for C in range(y): # compare amino acids (horizontal sections; 3 out of 4)\n",
    "            if amino_acid != genetic_code[l][0]:\n",
    "                mutations += 1\n",
    "                l += 4\n",
    "            else:\n",
    "                l += 4\n",
    "        for D in range(z): # compare amino acids (vertical sections; 2 out of 4)\n",
    "            if amino_acid != genetic_code[m][0]:\n",
    "                mutations += 1\n",
    "                m += 16\n",
    "            else:\n",
    "                m += 16\n",
    "        i += 1\n",
    "        k = i + 1\n",
    "        l = i + 4\n",
    "        m = i + 16\n",
    "    return mutations "
   ]
  },
  {
   "cell_type": "code",
   "execution_count": 18,
   "id": "b639cf11",
   "metadata": {},
   "outputs": [],
   "source": [
    "def aa_section(genetic_code):\n",
    "    mutations = 0 # number of mutations\n",
    "    x = 3\n",
    "    y = 1\n",
    "    z = 1\n",
    "    i = 40 # start position\n",
    "    k = i + 1 # switch amino acid in same section\n",
    "    l = i + 4 # switch amino acid in horizontal section\n",
    "    m = i + 16 # switch amino acid in vertical section\n",
    "    for A in range(4): # amino acids in section (i.e. Asn, Asn, Lys, Lys)\n",
    "        amino_acid = genetic_code[i][0]\n",
    "        for B in range(x): # compare amino acids (same section)\n",
    "            if amino_acid != genetic_code[k][0]:\n",
    "                mutations += 1\n",
    "                k += 1\n",
    "            else:\n",
    "                k += 1\n",
    "        x -= 1\n",
    "        for C in range(y): # compare amino acids (horizontal sections; 2 out of 4)\n",
    "            if amino_acid != genetic_code[l][0]:\n",
    "                mutations += 1\n",
    "                l += 4\n",
    "            else:\n",
    "                l += 4\n",
    "        for D in range(z): # compare amino acids (vertical sections; 2 out of 4)\n",
    "            if amino_acid != genetic_code[m][0]:\n",
    "                mutations += 1\n",
    "                m += 16\n",
    "            else:\n",
    "                m += 16\n",
    "        i += 1\n",
    "        k = i + 1\n",
    "        l = i + 4\n",
    "        m = i + 16\n",
    "    return mutations"
   ]
  },
  {
   "cell_type": "code",
   "execution_count": 19,
   "id": "aac53109",
   "metadata": {},
   "outputs": [],
   "source": [
    "def ag_section(genetic_code):\n",
    "    mutations = 0 # number of mutations\n",
    "    x = 3\n",
    "    y = 0\n",
    "    z = 1\n",
    "    i = 44 # start position\n",
    "    k = i + 1 # switch amino acid in same section\n",
    "    l = i + 4 # switch amino acid in horizontal section\n",
    "    m = i + 16 # switch amino acid in vertical section\n",
    "    for A in range(4): # amino acids in section (i.e. Asp, Asp, Glu Glu)\n",
    "        amino_acid = genetic_code[i][0]\n",
    "        for B in range(x): # compare amino acids (same section)\n",
    "            if amino_acid != genetic_code[k][0]:\n",
    "                mutations += 1\n",
    "                k += 1\n",
    "            else:\n",
    "                k += 1\n",
    "        x -= 1\n",
    "        for C in range(y): # compare amino acids (horizontal sections; 1 out of 4)\n",
    "            if amino_acid != genetic_code[l][0]:\n",
    "                mutations += 1\n",
    "                l += 4\n",
    "            else:\n",
    "                l += 4\n",
    "        for D in range(z): # compare amino acids (vertical sections; 2 out of 4)\n",
    "            if amino_acid != genetic_code[m][0]:\n",
    "                mutations += 1\n",
    "                m += 16\n",
    "            else:\n",
    "                m += 16\n",
    "        i += 1\n",
    "        k = i + 1\n",
    "        l = i + 4\n",
    "        m = i + 16\n",
    "    return mutations"
   ]
  },
  {
   "cell_type": "code",
   "execution_count": 20,
   "id": "c5dface8",
   "metadata": {},
   "outputs": [],
   "source": [
    "def gu_section(genetic_code):\n",
    "    mutations = 0 # number of mutations\n",
    "    x = 3\n",
    "    y = 3\n",
    "    z = 0\n",
    "    i = 48 # start position\n",
    "    k = i + 1 # switch amino acid in same section\n",
    "    l = i + 4 # switch amino acid in horizontal section\n",
    "    m = i + 16 # switch amino acid in vertical section\n",
    "    for A in range(4): # amino acids in section (i.e. Cys, Cys, End, Trp)\n",
    "        amino_acid = genetic_code[i][0]\n",
    "        for B in range(x): # compare amino acids (same section)\n",
    "            if amino_acid != genetic_code[k][0]:\n",
    "                mutations += 1\n",
    "                k += 1\n",
    "            else:\n",
    "                k += 1\n",
    "        x -= 1\n",
    "        for C in range(y): # compare amino acids (horizontal sections; 4 out of 4)\n",
    "            if amino_acid != genetic_code[l][0]:\n",
    "                mutations += 1\n",
    "                l += 4\n",
    "            else:\n",
    "                l += 4\n",
    "        for D in range(z): # compare amino acids (vertical sections; 1 out of 4)\n",
    "            if amino_acid != genetic_code[m][0]:\n",
    "                mutations += 1\n",
    "                m += 16\n",
    "            else:\n",
    "                m += 16\n",
    "        i += 1\n",
    "        k = i + 1\n",
    "        l = i + 4\n",
    "        m = i + 16\n",
    "    return mutations"
   ]
  },
  {
   "cell_type": "code",
   "execution_count": 21,
   "id": "de4c9789",
   "metadata": {},
   "outputs": [],
   "source": [
    "def gc_section(genetic_code):\n",
    "    mutations = 0 # number of mutations\n",
    "    x = 3\n",
    "    y = 2\n",
    "    z = 0\n",
    "    i = 52 # start position\n",
    "    k = i + 1 # switch amino acid in same section\n",
    "    l = i + 4 # switch amino acid in horizontal section\n",
    "    m = i + 16 # switch amino acid in vertical sgenetic_codeection\n",
    "    for A in range(4): # amino acids in section (i.e. Arg, Arg, Arg, Arg)\n",
    "        amino_acid = genetic_code[i][0]\n",
    "        for B in range(x): # compare amino acids (same section)\n",
    "            if amino_acid != genetic_code[k][0]:\n",
    "                mutations += 1\n",
    "                k += 1\n",
    "            else:\n",
    "                k += 1\n",
    "        x -= 1\n",
    "        for C in range(y): # compare amino acids (horizontal sections; 3 out of 4)\n",
    "            if amino_acid != genetic_code[l][0]:\n",
    "                mutations += 1\n",
    "                l += 4\n",
    "            else:\n",
    "                l += 4\n",
    "        for D in range(z): # compare amino acids (vertical sections; 1 out of 4)\n",
    "            if amino_acid != genetic_code[m][0]:\n",
    "                mutations += 1\n",
    "                m += 16\n",
    "            else:\n",
    "                m += 16\n",
    "        i += 1\n",
    "        k = i + 1\n",
    "        l = i + 4\n",
    "        m = i + 16\n",
    "    return mutations"
   ]
  },
  {
   "cell_type": "code",
   "execution_count": 22,
   "id": "eff6ac30",
   "metadata": {},
   "outputs": [],
   "source": [
    "def ga_section(genetic_code):\n",
    "    mutations = 0 # number of mutations\n",
    "    x = 3\n",
    "    y = 1\n",
    "    z = 0\n",
    "    i = 56 # start position\n",
    "    k = i + 1 # switch amino acid in same section\n",
    "    l = i + 4 # switch amino acid in horizontal section\n",
    "    m = i + 16 # switch amino acid in vertical section\n",
    "    for A in range(4): # amino acids in section (i.e. Ser, Ser, Arg, Arg)\n",
    "        amino_acid = genetic_code[i][0]\n",
    "        for B in range(x): # compare amino acids (same section)\n",
    "            if amino_acid != genetic_code[k][0]:\n",
    "                mutations += 1\n",
    "                k += 1\n",
    "            else:\n",
    "                k += 1\n",
    "        x -= 1\n",
    "        for C in range(y): # compare amino acids (horizontal sections; 2 out of 4)\n",
    "            if amino_acid != genetic_code[l][0]:\n",
    "                mutations += 1\n",
    "                l += 4\n",
    "            else:\n",
    "                l += 4\n",
    "        for D in range(z): # compare amino acids (vertical sections; 1 out of 4)\n",
    "            if amino_acid != genetic_code[m][0]:\n",
    "                mutations += 1\n",
    "                m += 16\n",
    "            else:\n",
    "                m += 16\n",
    "        i += 1\n",
    "        k = i + 1\n",
    "        l = i + 4\n",
    "        m = i + 16\n",
    "    return mutations"
   ]
  },
  {
   "cell_type": "code",
   "execution_count": 23,
   "id": "29dd36ca",
   "metadata": {},
   "outputs": [],
   "source": [
    "def gg_section(genetic_code):\n",
    "    mutations = 0 # number of mutations\n",
    "    x = 3\n",
    "    y = 0\n",
    "    z = 0\n",
    "    i = 60 # start position\n",
    "    k = i + 1 # switch amino acid in same section\n",
    "    l = i + 4 # switch amino acid in horizontal section\n",
    "    m = i + 16 # switch amino acid in vertical section\n",
    "    for A in range(4): # amino acids in section (i.e. Gly, Gly, Gly, Gly)\n",
    "        amino_acid = genetic_code[i][0]\n",
    "        for B in range(x): # compare amino acids (same section)\n",
    "            if amino_acid != genetic_code[k][0]:\n",
    "                mutations += 1\n",
    "                k += 1\n",
    "            else:\n",
    "                k += 1\n",
    "        x -= 1\n",
    "        for C in range(y): # compare amino acids (horizontal sections; 1 out of 4)\n",
    "            if amino_acid != genetic_code[l][0]:\n",
    "                mutations += 1\n",
    "                l += 4\n",
    "            else:\n",
    "                l += 4\n",
    "        for D in range(z): # compare amino acids (vertical sections; 1 out of 4)\n",
    "            if amino_acid != genetic_code[m][0]:\n",
    "                mutations += 1\n",
    "                m += 16\n",
    "            else:\n",
    "                m += 16\n",
    "        i += 1\n",
    "        k = i + 1\n",
    "        l = i + 4\n",
    "        m = i + 16\n",
    "    return mutations"
   ]
  },
  {
   "cell_type": "code",
   "execution_count": 24,
   "id": "302e1c61",
   "metadata": {},
   "outputs": [],
   "source": [
    "# Function to sum up all the mutations around genetic code\n",
    "    \n",
    "def total_mutations(genetic_code):\n",
    "    total = uu_section(genetic_code) + uc_section(genetic_code) + ua_section(genetic_code) + ug_section(genetic_code) + cu_section(genetic_code) + cc_section(genetic_code) + ca_section(genetic_code) + cg_section(genetic_code) + au_section(genetic_code) + ac_section(genetic_code) + aa_section(genetic_code) + ag_section(genetic_code) + gu_section(genetic_code) + gc_section(genetic_code) + ga_section(genetic_code) + gg_section(genetic_code)\n",
    "    return total"
   ]
  },
  {
   "cell_type": "code",
   "execution_count": 25,
   "id": "9ec7d015",
   "metadata": {},
   "outputs": [],
   "source": [
    "# Function to generate multiple genetic codes and sum up all the mutations around them\n",
    "\n",
    "mutations_frequencies = []\n",
    "\n",
    "def frequencies(results):\n",
    "    for i in range(len(codons)*10000):\n",
    "        empty_code = []\n",
    "        random_code(empty_code)\n",
    "        results.append(total_mutations(empty_code))\n",
    "    return results\n",
    "\n",
    "results = frequencies(mutations_frequencies)"
   ]
  },
  {
   "cell_type": "code",
   "execution_count": 26,
   "id": "7409d4ee",
   "metadata": {},
   "outputs": [
    {
     "name": "stdout",
     "output_type": "stream",
     "text": [
      "640000 genetic codes were generated and evaluated, with a maximum number of 288 mutations and a minimum of 258 mutations\n"
     ]
    }
   ],
   "source": [
    "print(\"{} genetic codes were generated and evaluated, with a maximum number of {} mutations and a minimum of {} mutations\".format(len(results), max(results), min(results)))"
   ]
  },
  {
   "cell_type": "code",
   "execution_count": 27,
   "id": "b0c54746-5f6c-4215-9541-f84bdab9c96d",
   "metadata": {},
   "outputs": [
    {
     "data": {
      "text/html": [
       "<div>\n",
       "<style scoped>\n",
       "    .dataframe tbody tr th:only-of-type {\n",
       "        vertical-align: middle;\n",
       "    }\n",
       "\n",
       "    .dataframe tbody tr th {\n",
       "        vertical-align: top;\n",
       "    }\n",
       "\n",
       "    .dataframe thead th {\n",
       "        text-align: right;\n",
       "    }\n",
       "</style>\n",
       "<table border=\"1\" class=\"dataframe\">\n",
       "  <thead>\n",
       "    <tr style=\"text-align: right;\">\n",
       "      <th></th>\n",
       "      <th># Mutations</th>\n",
       "    </tr>\n",
       "  </thead>\n",
       "  <tbody>\n",
       "    <tr>\n",
       "      <th>count</th>\n",
       "      <td>640000.000000</td>\n",
       "    </tr>\n",
       "    <tr>\n",
       "      <th>mean</th>\n",
       "      <td>275.143989</td>\n",
       "    </tr>\n",
       "    <tr>\n",
       "      <th>std</th>\n",
       "      <td>3.238719</td>\n",
       "    </tr>\n",
       "    <tr>\n",
       "      <th>min</th>\n",
       "      <td>258.000000</td>\n",
       "    </tr>\n",
       "    <tr>\n",
       "      <th>25%</th>\n",
       "      <td>273.000000</td>\n",
       "    </tr>\n",
       "    <tr>\n",
       "      <th>50%</th>\n",
       "      <td>275.000000</td>\n",
       "    </tr>\n",
       "    <tr>\n",
       "      <th>75%</th>\n",
       "      <td>277.000000</td>\n",
       "    </tr>\n",
       "    <tr>\n",
       "      <th>max</th>\n",
       "      <td>288.000000</td>\n",
       "    </tr>\n",
       "  </tbody>\n",
       "</table>\n",
       "</div>"
      ],
      "text/plain": [
       "         # Mutations\n",
       "count  640000.000000\n",
       "mean      275.143989\n",
       "std         3.238719\n",
       "min       258.000000\n",
       "25%       273.000000\n",
       "50%       275.000000\n",
       "75%       277.000000\n",
       "max       288.000000"
      ]
     },
     "execution_count": 27,
     "metadata": {},
     "output_type": "execute_result"
    }
   ],
   "source": [
    "results_dataframe = pd.DataFrame(results, columns=['# Mutations'])\n",
    "results_dataframe.describe()"
   ]
  },
  {
   "cell_type": "markdown",
   "id": "208b2578",
   "metadata": {},
   "source": [
    "## Histogram"
   ]
  },
  {
   "cell_type": "code",
   "execution_count": 67,
   "id": "0429ab18",
   "metadata": {},
   "outputs": [],
   "source": [
    "plt.plot?"
   ]
  },
  {
   "cell_type": "code",
   "execution_count": 32,
   "id": "9803588d",
   "metadata": {},
   "outputs": [
    {
     "data": {
      "text/plain": [
       "[<matplotlib.axis.YTick at 0x7f8f09633c10>,\n",
       " <matplotlib.axis.YTick at 0x7f8f09631fd0>,\n",
       " <matplotlib.axis.YTick at 0x7f8f0957fc10>,\n",
       " <matplotlib.axis.YTick at 0x7f8f096816d0>,\n",
       " <matplotlib.axis.YTick at 0x7f8f096834d0>,\n",
       " <matplotlib.axis.YTick at 0x7f8f096843d0>]"
      ]
     },
     "execution_count": 32,
     "metadata": {},
     "output_type": "execute_result"
    },
    {
     "data": {
      "application/vnd.jupyter.widget-view+json": {
       "model_id": "db042d9607954d489de49f061d914934",
       "version_major": 2,
       "version_minor": 0
      },
      "image/png": "[encoded data removed]",
      "text/html": [
       "\n",
       "            <div style=\"display: inline-block;\">\n",
       "                <div class=\"jupyter-widgets widget-label\" style=\"text-align: center;\">\n",
       "                    Figure\n",
       "                </div>\n",
       "                <img src='data:image/png;base64,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' width=640.0/>\n",
       "            </div>\n",
       "        "
      ],
      "text/plain": [
       "Canvas(toolbar=Toolbar(toolitems=[('Home', 'Reset original view', 'home', 'home'), ('Back', 'Back to previous …"
      ]
     },
     "metadata": {},
     "output_type": "display_data"
    }
   ],
   "source": [
    "plt.figure()\n",
    "\n",
    "plt.title(\"Distribution of mutations of random codes\", fontsize = 12)\n",
    "plt.xlabel(\"Number of mutations per code\", fontsize = 8)\n",
    "plt.ylabel(\"Frequency\", fontsize = 8)\n",
    "\n",
    "ax = plt.gca()\n",
    "ax.spines[['top', 'right']].set_visible(False)\n",
    "ax.hist(results, bins = 27, facecolor = '#ADD8E6', \n",
    "        linewidth = 0.5)\n",
    "ax.set_xticks(np.arange(min(results), max(results), 5))\n",
    "ax.set_yticks([0, 20000, 40000, 60000, 80000, 100000])"
   ]
  },
  {
   "cell_type": "markdown",
   "id": "60e83a81",
   "metadata": {},
   "source": [
    "## Animated Histogram"
   ]
  },
  {
   "cell_type": "code",
   "execution_count": 33,
   "id": "07155d87-ae41-449d-b333-aa34d72fb584",
   "metadata": {},
   "outputs": [],
   "source": [
    "mutations_frequencies = []\n",
    "\n",
    "def frequencies(results):\n",
    "    for i in range(len(codons)*100):\n",
    "        empty_code = []\n",
    "        random_code(empty_code)\n",
    "        results.append(total_mutations(empty_code))\n",
    "    return results\n",
    "\n",
    "results = frequencies(mutations_frequencies)"
   ]
  },
  {
   "cell_type": "code",
   "execution_count": 34,
   "id": "f3c601e2",
   "metadata": {},
   "outputs": [],
   "source": [
    "n = len(results)"
   ]
  },
  {
   "cell_type": "code",
   "execution_count": 35,
   "id": "430529b5",
   "metadata": {},
   "outputs": [],
   "source": [
    "def update_hist(frame):\n",
    "    if frame == n:\n",
    "        animation.event_source.stop()\n",
    "    bins = np.arange(260, 290, 1)\n",
    "    \n",
    "    plt.cla() # clear current axis\n",
    "    \n",
    "    plt.hist(results[:frame], bins = bins, color = '#ADD8E6')\n",
    "    plt.gca().set_xticks(np.arange(min(results), max(results), 5))\n",
    "    plt.gca().set_yticks([0, 200, 400, 600, 800])\n",
    "    ax = plt.gca()\n",
    "    ax.spines[['top', 'right']].set_visible(False)\n",
    "    plt.gca().set_title(\"Distribution of mutations of random codes\", fontsize = 12)\n",
    "    plt.gca().set_xlabel(\"Number of mutations per code\", fontsize = 8)\n",
    "    plt.ylabel(\"Frequency\", fontsize = 8)\n",
    "    plt.gca().annotate('n = {}'.format(n), [5, 275])"
   ]
  },
  {
   "cell_type": "code",
   "execution_count": 36,
   "id": "0ef1975b",
   "metadata": {},
   "outputs": [
    {
     "data": {
      "application/vnd.jupyter.widget-view+json": {
       "model_id": "ac561d1cb3e44bf5a5d5b2ec6a76ce96",
       "version_major": 2,
       "version_minor": 0
      },
      "image/png": "[encoded data removed]",
      "text/html": [
       "\n",
       "            <div style=\"display: inline-block;\">\n",
       "                <div class=\"jupyter-widgets widget-label\" style=\"text-align: center;\">\n",
       "                    Figure\n",
       "                </div>\n",
       "                <img src='data:image/png;base64,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' width=640.0/>\n",
       "            </div>\n",
       "        "
      ],
      "text/plain": [
       "Canvas(toolbar=Toolbar(toolitems=[('Home', 'Reset original view', 'home', 'home'), ('Back', 'Back to previous …"
      ]
     },
     "metadata": {},
     "output_type": "display_data"
    }
   ],
   "source": [
    "fig = plt.figure()\n",
    "\n",
    "animation = animation.FuncAnimation(fig = fig, func = update_hist, interval = 0.001, blit = True, save_count = 301)"
   ]
  },
  {
   "cell_type": "code",
   "execution_count": 37,
   "id": "afca7fd6-3e97-4b09-9e5b-dce02a14eaa1",
   "metadata": {},
   "outputs": [],
   "source": [
    "from IPython.display import Image\n",
    "from IPython.core.display import HTML"
   ]
  },
  {
   "cell_type": "code",
   "execution_count": null,
   "id": "156ea543-95ed-4dd2-bef7-19bddef5091b",
   "metadata": {},
   "outputs": [],
   "source": [
    "HTML(animation.to_html5_video())"
   ]
  },
  {
   "cell_type": "markdown",
   "id": "dd49d3b3-a0f1-43a1-9764-c72907a7a5d1",
   "metadata": {},
   "source": [
    "## Conclusions"
   ]
  },
  {
   "cell_type": "markdown",
   "id": "044fdd13-bc91-44fc-82ab-3c2649e0708c",
   "metadata": {},
   "source": [
    "### The genetic code is not random"
   ]
  },
  {
   "cell_type": "markdown",
   "id": "d1cbcf3c-9949-4cdd-83ff-87dbeb26d003",
   "metadata": {},
   "source": [
    "We generate and evaluate 640,000 random genetic codes, the results where stored in an Array object, which we use to generate both histogram and animated histogram, and obtain the descriptive statistics using the _describe_ method. \n",
    "The **average** number of mutations was about 275, while the **minimum** and **maximum** were 258 and 288 mutations, respectively."
   ]
  },
  {
   "cell_type": "markdown",
   "id": "d613dd6c-9e01-49ec-a9f5-d404e83c7baa",
   "metadata": {},
   "source": [
    "According to the _total_mutations_ function there are 219 mutations around the original genetic code, note that this function only count the **single-point mutations** (i.e. a genetic mutation where a single nucleotide base is changed; for more info see [NIH](genome.gov/genetics-glossary/Point-Mutation)). "
   ]
  },
  {
   "cell_type": "markdown",
   "id": "2df8f627-bf02-4b6d-995f-2e28591513c3",
   "metadata": {},
   "source": [
    "This shows that this process was result of nonrandom patterns in the distribution of codon assignments. The actual genetic code minimized the effects of **errors**. These results are based on the number of random alternative codes that were generated and evaluated, since the number of mutations are higher than the mutations present in the original genetic code."
   ]
  },
  {
   "cell_type": "markdown",
   "id": "f01f0688-68a6-4d3c-b8a6-47765bb7b27e",
   "metadata": {},
   "source": [
    "We can conclude that the original genetic code is so **efficient at minimizing the effects of errors**, therefore we can say that it's not a product of a random process, it have been changing and improving over time. "
   ]
  },
  {
   "cell_type": "markdown",
   "id": "c1997995-4e13-415b-9c6a-132fcb21f557",
   "metadata": {},
   "source": [
    "## Complementary Information"
   ]
  },
  {
   "cell_type": "markdown",
   "id": "4eba208d-4348-429b-8bc2-27418b912cfb",
   "metadata": {},
   "source": [
    "### Arrangement used to develop functions"
   ]
  },
  {
   "cell_type": "markdown",
   "id": "e61cfeb0-813b-4e29-af90-e1627722dec4",
   "metadata": {},
   "source": [
    "According to the chart below we can say genetic code divides in 16 sections, being the **first** one the section including the codons [ uuu, uuc, uua, uug ] corresponding to _Phe_, _Phe_, _Leu_, _Leu_, respectively, the **second** one the section including the codons [ cuu, cuc, cua, cug ] all of them corresponding to _Leu_, and so on, being the **last** section the one including the codons [ ggu, ggc, gga, ggg ] all of them corresponding to _Gly_. Functions were developed given that arrangement were **16 sections** divides the genetic code, therefore **16 functions** were developed in order to count all the mutations around the genetic code.\n",
    "\n",
    "+ Every function **compares** the codons and the amino acid that it codifies, for example if codons _uuu_ and _uuc_ codifies to a different amino acid it would be an **error**, otherwise it wouldn't be.\n",
    "+ Every function is **initialized** with different values at position parameters (_x_, _y_ and _z_) and start codon (_i_) depending of the section, for example the first section starts at codon _uuu_ (position _i_ = 0) with values _x = 3_, _y = 3_ and _z = 3_, while the fifth section starts at codon _ucu_ (position _i_ = 16) with values _x = 3_, _y = 3_ and _z = 2_. _x_ determines the number of codons in the section, _y_ determines the remaining neighbors to compare with in **horizontal** orientation, while _z_ determines the remaining neighbors to compare with in **vertical** orientation.\n",
    "  \n",
    "In that way we ensure that all codons and its corresponding amino acid were compare and considered for the number of mutations in every genetic code."
   ]
  },
  {
   "cell_type": "code",
   "execution_count": 40,
   "id": "b7266d57-0147-47e2-a3e9-0ac65fa2db92",
   "metadata": {},
   "outputs": [
    {
     "data": {
      "text/html": [
       "<img src=\"https://xaktly.com/Images/Biology/GeneticCode/GeneticCode.png\" width=\"480\" height=\"480\"/>"
      ],
      "text/plain": [
       "<IPython.core.display.Image object>"
      ]
     },
     "execution_count": 40,
     "metadata": {},
     "output_type": "execute_result"
    }
   ],
   "source": [
    "Image(url=\"https://xaktly.com/Images/Biology/GeneticCode/GeneticCode.png\", width=480, height=480)"
   ]
  }
 ],
 "metadata": {
  "kernelspec": {
   "display_name": "Python 3 (ipykernel)",
   "language": "python",
   "name": "python3"
  },
  "language_info": {
   "codemirror_mode": {
    "name": "ipython",
    "version": 3
   },
   "file_extension": ".py",
   "mimetype": "text/x-python",
   "name": "python",
   "nbconvert_exporter": "python",
   "pygments_lexer": "ipython3",
   "version": "3.11.2"
  }
 },
 "nbformat": 4,
 "nbformat_minor": 5
}
